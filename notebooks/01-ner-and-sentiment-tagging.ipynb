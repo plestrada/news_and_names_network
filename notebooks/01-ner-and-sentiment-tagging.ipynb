{
 "cells": [
  {
   "cell_type": "code",
   "execution_count": 1,
   "id": "acf35bd7-fef4-49f7-8f3f-fdbc3fe43636",
   "metadata": {
    "execution": {
     "iopub.execute_input": "2023-08-27T10:40:54.904536Z",
     "iopub.status.busy": "2023-08-27T10:40:54.904231Z",
     "iopub.status.idle": "2023-08-27T10:41:01.240904Z",
     "shell.execute_reply": "2023-08-27T10:41:01.239730Z",
     "shell.execute_reply.started": "2023-08-27T10:40:54.904504Z"
    },
    "tags": []
   },
   "outputs": [
    {
     "name": "stderr",
     "output_type": "stream",
     "text": [
      "2023-08-27 10:40:57.775719: I tensorflow/core/platform/cpu_feature_guard.cc:182] This TensorFlow binary is optimized to use available CPU instructions in performance-critical operations.\n",
      "To enable the following instructions: AVX2 FMA, in other operations, rebuild TensorFlow with the appropriate compiler flags.\n",
      "2023-08-27 10:40:58.838887: W tensorflow/compiler/tf2tensorrt/utils/py_utils.cc:38] TF-TRT Warning: Could not find TensorRT\n",
      "2023-08-27 10:40:59.816092: E tensorflow/compiler/xla/stream_executor/cuda/cuda_driver.cc:266] failed call to cuInit: CUDA_ERROR_NO_DEVICE: no CUDA-capable device is detected\n",
      "2023-08-27 10:40:59.816163: I tensorflow/compiler/xla/stream_executor/cuda/cuda_diagnostics.cc:168] retrieving CUDA diagnostic information for host: jupyter-pestrada\n",
      "2023-08-27 10:40:59.816174: I tensorflow/compiler/xla/stream_executor/cuda/cuda_diagnostics.cc:175] hostname: jupyter-pestrada\n",
      "2023-08-27 10:40:59.816289: I tensorflow/compiler/xla/stream_executor/cuda/cuda_diagnostics.cc:199] libcuda reported version is: 515.65.1\n",
      "2023-08-27 10:40:59.816319: I tensorflow/compiler/xla/stream_executor/cuda/cuda_diagnostics.cc:203] kernel reported version is: 515.65.1\n",
      "2023-08-27 10:40:59.816329: I tensorflow/compiler/xla/stream_executor/cuda/cuda_diagnostics.cc:309] kernel version seems to match DSO: 515.65.1\n"
     ]
    }
   ],
   "source": [
    "import pandas as pd\n",
    "import numpy as np\n",
    "\n",
    "import re\n",
    "import requests\n",
    "from bs4 import BeautifulSoup\n",
    "from unidecode import unidecode\n",
    "from langdetect import detect\n",
    "\n",
    "from collections import Counter\n",
    "\n",
    "from tqdm.notebook import tqdm\n",
    "import joblib\n",
    "\n",
    "from presidio_analyzer import AnalyzerEngine\n",
    "\n",
    "pd.set_option('display.max_columns', None)"
   ]
  },
  {
   "cell_type": "markdown",
   "id": "1cd03502",
   "metadata": {},
   "source": [
    "# Loading and cleaning the dataset"
   ]
  },
  {
   "cell_type": "code",
   "execution_count": 2,
   "id": "3f423945-9b81-4705-800d-684cd6eceb5b",
   "metadata": {
    "execution": {
     "iopub.execute_input": "2023-08-27T10:41:01.243998Z",
     "iopub.status.busy": "2023-08-27T10:41:01.242967Z",
     "iopub.status.idle": "2023-08-27T10:41:04.445750Z",
     "shell.execute_reply": "2023-08-27T10:41:04.444478Z",
     "shell.execute_reply.started": "2023-08-27T10:41:01.243973Z"
    },
    "tags": []
   },
   "outputs": [
    {
     "name": "stderr",
     "output_type": "stream",
     "text": [
      "/tmp/ipykernel_26745/1642638485.py:2: DtypeWarning: Columns (30,31,34) have mixed types. Specify dtype option on import or set low_memory=False.\n",
      "  df = pd.read_csv(fp)\n"
     ]
    }
   ],
   "source": [
    "fp = '../data/2023-rappler-articles-ns.csv'\n",
    "df = pd.read_csv(fp)"
   ]
  },
  {
   "cell_type": "code",
   "execution_count": 3,
   "id": "a4cf770a-cda7-4d05-9cbe-14e30a2e5a2c",
   "metadata": {
    "execution": {
     "iopub.execute_input": "2023-08-27T10:41:04.447689Z",
     "iopub.status.busy": "2023-08-27T10:41:04.447334Z",
     "iopub.status.idle": "2023-08-27T10:41:04.457154Z",
     "shell.execute_reply": "2023-08-27T10:41:04.456019Z",
     "shell.execute_reply.started": "2023-08-27T10:41:04.447660Z"
    },
    "tags": []
   },
   "outputs": [
    {
     "data": {
      "text/plain": [
       "(36215, 60)"
      ]
     },
     "execution_count": 3,
     "metadata": {},
     "output_type": "execute_result"
    }
   ],
   "source": [
    "df.shape"
   ]
  },
  {
   "cell_type": "code",
   "execution_count": 4,
   "id": "8c917159-c567-41df-96f8-74479db43ae5",
   "metadata": {
    "execution": {
     "iopub.execute_input": "2023-08-27T10:41:04.462431Z",
     "iopub.status.busy": "2023-08-27T10:41:04.461894Z",
     "iopub.status.idle": "2023-08-27T10:41:04.504467Z",
     "shell.execute_reply": "2023-08-27T10:41:04.503527Z",
     "shell.execute_reply.started": "2023-08-27T10:41:04.462381Z"
    },
    "tags": []
   },
   "outputs": [
    {
     "data": {
      "text/plain": [
       "(3997, 60)"
      ]
     },
     "execution_count": 4,
     "metadata": {},
     "output_type": "execute_result"
    }
   ],
   "source": [
    "business_df = df[df['link'].str.contains('/business/')].copy()\n",
    "business_df.shape"
   ]
  },
  {
   "cell_type": "code",
   "execution_count": 5,
   "id": "8f1acdcf-82af-4875-946c-e0833a0b12ff",
   "metadata": {
    "execution": {
     "iopub.execute_input": "2023-08-27T10:41:04.506038Z",
     "iopub.status.busy": "2023-08-27T10:41:04.505733Z",
     "iopub.status.idle": "2023-08-27T10:41:10.279731Z",
     "shell.execute_reply": "2023-08-27T10:41:10.278209Z",
     "shell.execute_reply.started": "2023-08-27T10:41:04.506010Z"
    },
    "tags": []
   },
   "outputs": [],
   "source": [
    "def remove_html_tags(text):\n",
    "    soup = BeautifulSoup(text, 'html.parser')\n",
    "    cleaned_text = soup.get_text()\n",
    "    return cleaned_text\n",
    "\n",
    "business_df['content.cleaned'] = business_df['content.rendered'].apply(remove_html_tags)"
   ]
  },
  {
   "cell_type": "code",
   "execution_count": 6,
   "id": "936d44e2-0bec-4d8f-ac19-11a3b33cbde7",
   "metadata": {
    "execution": {
     "iopub.execute_input": "2023-08-27T10:41:10.284679Z",
     "iopub.status.busy": "2023-08-27T10:41:10.284277Z",
     "iopub.status.idle": "2023-08-27T10:41:14.570909Z",
     "shell.execute_reply": "2023-08-27T10:41:14.569367Z",
     "shell.execute_reply.started": "2023-08-27T10:41:10.284640Z"
    },
    "tags": []
   },
   "outputs": [],
   "source": [
    "pattern = r'[\\t\\n]|<[\\w \"@+#%&,./:;=?_-]+>'\n",
    "pattern2 = r'<.*https?.*>'\n",
    "pattern3 = r'<(?:a|span|div|em|strong|mark).*>'\n",
    "pattern4 = r'!function.*;'\n",
    "pattern5 = r'\\.igframe.*}'\n",
    "\n",
    "business_df['content.cleaned'] = (\n",
    "    business_df['content.cleaned']\n",
    "    .apply(unidecode)\n",
    "    .apply(lambda x: re.sub(pattern, ' ', x))\n",
    "    .apply(lambda x: re.sub(pattern2, ' ', x))\n",
    "    .apply(lambda x: re.sub(pattern3, ' ', x))\n",
    "    .apply(lambda x: re.sub(pattern4, ' ', x))\n",
    "    .apply(lambda x: re.sub(pattern5, ' ', x))\n",
    "    .str.replace('&#8217;', \"'\")\n",
    "    .str.replace('&#8220;', '\"')\n",
    "    .str.replace('&#8221;', '\"')\n",
    ")"
   ]
  },
  {
   "cell_type": "markdown",
   "id": "596f1b37",
   "metadata": {},
   "source": [
    "# NER\n",
    "## Tagging unique entities per article"
   ]
  },
  {
   "cell_type": "code",
   "execution_count": 7,
   "id": "8da43d53-1e49-41e1-b393-f9c5c5631598",
   "metadata": {
    "execution": {
     "iopub.execute_input": "2023-08-27T10:41:14.572646Z",
     "iopub.status.busy": "2023-08-27T10:41:14.572354Z",
     "iopub.status.idle": "2023-08-27T10:47:58.558948Z",
     "shell.execute_reply": "2023-08-27T10:47:58.557771Z",
     "shell.execute_reply.started": "2023-08-27T10:41:14.572618Z"
    },
    "tags": []
   },
   "outputs": [
    {
     "data": {
      "application/vnd.jupyter.widget-view+json": {
       "model_id": "fc294f8daf3e4e6592b7b6bb312537e2",
       "version_major": 2,
       "version_minor": 0
      },
      "text/plain": [
       "  0%|          | 0/3997 [00:00<?, ?it/s]"
      ]
     },
     "metadata": {},
     "output_type": "display_data"
    }
   ],
   "source": [
    "analyzer = AnalyzerEngine()\n",
    "\n",
    "content_list = business_df['content.cleaned'].tolist()\n",
    "\n",
    "named_entities_list = []\n",
    "for content in tqdm(content_list):\n",
    "    analysis_results = analyzer.analyze(content, language='en')\n",
    "    named_entities = [content[ent.start:ent.end]\n",
    "                      for ent in analysis_results \n",
    "                      if ent.entity_type == 'PERSON']\n",
    "    \n",
    "    named_entities_list.append(named_entities)"
   ]
  },
  {
   "cell_type": "code",
   "execution_count": 8,
   "id": "da2b3151-1074-4ae8-b064-a03172226b9d",
   "metadata": {
    "execution": {
     "iopub.execute_input": "2023-08-27T10:47:58.560675Z",
     "iopub.status.busy": "2023-08-27T10:47:58.560367Z",
     "iopub.status.idle": "2023-08-27T10:47:58.686988Z",
     "shell.execute_reply": "2023-08-27T10:47:58.686042Z",
     "shell.execute_reply.started": "2023-08-27T10:47:58.560645Z"
    },
    "tags": []
   },
   "outputs": [
    {
     "data": {
      "text/plain": [
       "['named_entities_list.pkl']"
      ]
     },
     "execution_count": 8,
     "metadata": {},
     "output_type": "execute_result"
    }
   ],
   "source": [
    "joblib.dump(named_entities_list, 'named_entities_list.pkl')"
   ]
  },
  {
   "cell_type": "code",
   "execution_count": 9,
   "id": "68b7c025-af07-49cc-a877-b324468da3a9",
   "metadata": {
    "execution": {
     "iopub.execute_input": "2023-08-27T10:47:58.688464Z",
     "iopub.status.busy": "2023-08-27T10:47:58.688168Z",
     "iopub.status.idle": "2023-08-27T10:47:58.694439Z",
     "shell.execute_reply": "2023-08-27T10:47:58.693603Z",
     "shell.execute_reply.started": "2023-08-27T10:47:58.688436Z"
    },
    "tags": []
   },
   "outputs": [
    {
     "data": {
      "text/plain": [
       "[[],\n",
       " ['Eric Peter Roxas'],\n",
       " ['James Patrick Cruz'],\n",
       " ['Soccsksargen',\n",
       "  'Edgar Galvante',\n",
       "  'Rodrigo Duterte',\n",
       "  'Driver',\n",
       "  'Lance Spencer Yu/Rappler.com  '],\n",
       " [\"Ferdinand Marcos Jr's\"]]"
      ]
     },
     "execution_count": 9,
     "metadata": {},
     "output_type": "execute_result"
    }
   ],
   "source": [
    "named_entities_list[0:5]"
   ]
  },
  {
   "cell_type": "code",
   "execution_count": 10,
   "id": "3709f531-bd53-4eaa-9759-27600b7a711d",
   "metadata": {
    "execution": {
     "iopub.execute_input": "2023-08-27T10:47:58.695934Z",
     "iopub.status.busy": "2023-08-27T10:47:58.695630Z",
     "iopub.status.idle": "2023-08-27T10:47:58.708077Z",
     "shell.execute_reply": "2023-08-27T10:47:58.707249Z",
     "shell.execute_reply.started": "2023-08-27T10:47:58.695908Z"
    },
    "tags": []
   },
   "outputs": [],
   "source": [
    "unique_entities = [set(x) for x in named_entities_list]"
   ]
  },
  {
   "cell_type": "code",
   "execution_count": 11,
   "id": "72c10084-a7e8-446a-ab0d-5e48143f5426",
   "metadata": {
    "execution": {
     "iopub.execute_input": "2023-08-27T10:47:58.709369Z",
     "iopub.status.busy": "2023-08-27T10:47:58.709108Z",
     "iopub.status.idle": "2023-08-27T10:47:58.732499Z",
     "shell.execute_reply": "2023-08-27T10:47:58.731436Z",
     "shell.execute_reply.started": "2023-08-27T10:47:58.709344Z"
    },
    "tags": []
   },
   "outputs": [],
   "source": [
    "usecols=[\n",
    "    'id',\n",
    "    'link',\n",
    "    'date',\n",
    "    'content.rendered',\n",
    "    'content.cleaned',\n",
    "    'categories',\n",
    "    'authorship',\n",
    "    'tags'\n",
    "]\n",
    "\n",
    "z = business_df[usecols].copy()\n",
    "z.loc[:, 'unique_entities'] = unique_entities"
   ]
  },
  {
   "cell_type": "code",
   "execution_count": 12,
   "id": "55a2475f-e90a-49bc-b63f-0d355d987cc6",
   "metadata": {
    "execution": {
     "iopub.execute_input": "2023-08-27T10:47:58.733951Z",
     "iopub.status.busy": "2023-08-27T10:47:58.733638Z",
     "iopub.status.idle": "2023-08-27T10:47:58.750805Z",
     "shell.execute_reply": "2023-08-27T10:47:58.750043Z",
     "shell.execute_reply.started": "2023-08-27T10:47:58.733926Z"
    },
    "tags": []
   },
   "outputs": [
    {
     "data": {
      "text/html": [
       "<div>\n",
       "<style scoped>\n",
       "    .dataframe tbody tr th:only-of-type {\n",
       "        vertical-align: middle;\n",
       "    }\n",
       "\n",
       "    .dataframe tbody tr th {\n",
       "        vertical-align: top;\n",
       "    }\n",
       "\n",
       "    .dataframe thead th {\n",
       "        text-align: right;\n",
       "    }\n",
       "</style>\n",
       "<table border=\"1\" class=\"dataframe\">\n",
       "  <thead>\n",
       "    <tr style=\"text-align: right;\">\n",
       "      <th></th>\n",
       "      <th>id</th>\n",
       "      <th>link</th>\n",
       "      <th>date</th>\n",
       "      <th>content.rendered</th>\n",
       "      <th>content.cleaned</th>\n",
       "      <th>categories</th>\n",
       "      <th>authorship</th>\n",
       "      <th>tags</th>\n",
       "      <th>unique_entities</th>\n",
       "    </tr>\n",
       "  </thead>\n",
       "  <tbody>\n",
       "    <tr>\n",
       "      <th>26</th>\n",
       "      <td>2452896</td>\n",
       "      <td>https://www.rappler.com/business/list-flights-...</td>\n",
       "      <td>2023-07-24T12:43:49</td>\n",
       "      <td>\\n&lt;p&gt;MANILA, Philippines – Various airports an...</td>\n",
       "      <td>MANILA, Philippines - Various airports and ai...</td>\n",
       "      <td>[621, 624]</td>\n",
       "      <td>[6936]</td>\n",
       "      <td>[2283, 2487, 2802]</td>\n",
       "      <td>{}</td>\n",
       "    </tr>\n",
       "    <tr>\n",
       "      <th>34</th>\n",
       "      <td>2452759</td>\n",
       "      <td>https://www.rappler.com/business/repower-energ...</td>\n",
       "      <td>2023-07-24T10:44:42</td>\n",
       "      <td>\\n&lt;p&gt;MANILA, Philippines – Repower Energy Deve...</td>\n",
       "      <td>MANILA, Philippines - Repower Energy Developm...</td>\n",
       "      <td>[621, 625, 626]</td>\n",
       "      <td>[4952]</td>\n",
       "      <td>[2716, 2520, 2266]</td>\n",
       "      <td>{Eric Peter Roxas}</td>\n",
       "    </tr>\n",
       "    <tr>\n",
       "      <th>111</th>\n",
       "      <td>2449638</td>\n",
       "      <td>https://www.rappler.com/business/coa-finds-ant...</td>\n",
       "      <td>2023-07-22T14:42:06</td>\n",
       "      <td>\\n&lt;p&gt;MANILA, Philippines – The Commission on A...</td>\n",
       "      <td>MANILA, Philippines - The Commission on Audit...</td>\n",
       "      <td>[621, 622]</td>\n",
       "      <td>[4999]</td>\n",
       "      <td>[73, 1964]</td>\n",
       "      <td>{James Patrick Cruz}</td>\n",
       "    </tr>\n",
       "    <tr>\n",
       "      <th>127</th>\n",
       "      <td>2451576</td>\n",
       "      <td>https://www.rappler.com/business/land-transpor...</td>\n",
       "      <td>2023-07-22T11:20:47</td>\n",
       "      <td>\\n&lt;p&gt;MANILA, Philippines – More than 66% of dr...</td>\n",
       "      <td>MANILA, Philippines - More than 66% of drivin...</td>\n",
       "      <td>[621, 622]</td>\n",
       "      <td>[4999]</td>\n",
       "      <td>[1964, 2103]</td>\n",
       "      <td>{Driver, Rodrigo Duterte, Soccsksargen, Lance ...</td>\n",
       "    </tr>\n",
       "    <tr>\n",
       "      <th>146</th>\n",
       "      <td>2451174</td>\n",
       "      <td>https://www.rappler.com/business/sim-card-regi...</td>\n",
       "      <td>2023-07-21T19:56:01</td>\n",
       "      <td>\\n&lt;p&gt;MANILA, Philippines– The Department of In...</td>\n",
       "      <td>MANILA, Philippines- The Department of Inform...</td>\n",
       "      <td>[621, 628, 622]</td>\n",
       "      <td>[4999]</td>\n",
       "      <td>[1991, 2494]</td>\n",
       "      <td>{Ferdinand Marcos Jr's}</td>\n",
       "    </tr>\n",
       "  </tbody>\n",
       "</table>\n",
       "</div>"
      ],
      "text/plain": [
       "          id                                               link  \\\n",
       "26   2452896  https://www.rappler.com/business/list-flights-...   \n",
       "34   2452759  https://www.rappler.com/business/repower-energ...   \n",
       "111  2449638  https://www.rappler.com/business/coa-finds-ant...   \n",
       "127  2451576  https://www.rappler.com/business/land-transpor...   \n",
       "146  2451174  https://www.rappler.com/business/sim-card-regi...   \n",
       "\n",
       "                    date                                   content.rendered  \\\n",
       "26   2023-07-24T12:43:49  \\n<p>MANILA, Philippines – Various airports an...   \n",
       "34   2023-07-24T10:44:42  \\n<p>MANILA, Philippines – Repower Energy Deve...   \n",
       "111  2023-07-22T14:42:06  \\n<p>MANILA, Philippines – The Commission on A...   \n",
       "127  2023-07-22T11:20:47  \\n<p>MANILA, Philippines – More than 66% of dr...   \n",
       "146  2023-07-21T19:56:01  \\n<p>MANILA, Philippines– The Department of In...   \n",
       "\n",
       "                                       content.cleaned       categories  \\\n",
       "26    MANILA, Philippines - Various airports and ai...       [621, 624]   \n",
       "34    MANILA, Philippines - Repower Energy Developm...  [621, 625, 626]   \n",
       "111   MANILA, Philippines - The Commission on Audit...       [621, 622]   \n",
       "127   MANILA, Philippines - More than 66% of drivin...       [621, 622]   \n",
       "146   MANILA, Philippines- The Department of Inform...  [621, 628, 622]   \n",
       "\n",
       "    authorship                tags  \\\n",
       "26      [6936]  [2283, 2487, 2802]   \n",
       "34      [4952]  [2716, 2520, 2266]   \n",
       "111     [4999]          [73, 1964]   \n",
       "127     [4999]        [1964, 2103]   \n",
       "146     [4999]        [1991, 2494]   \n",
       "\n",
       "                                       unique_entities  \n",
       "26                                                  {}  \n",
       "34                                  {Eric Peter Roxas}  \n",
       "111                               {James Patrick Cruz}  \n",
       "127  {Driver, Rodrigo Duterte, Soccsksargen, Lance ...  \n",
       "146                            {Ferdinand Marcos Jr's}  "
      ]
     },
     "execution_count": 12,
     "metadata": {},
     "output_type": "execute_result"
    }
   ],
   "source": [
    "z.head()"
   ]
  },
  {
   "cell_type": "markdown",
   "id": "9ef6600b",
   "metadata": {},
   "source": [
    "## Cleaning named entities"
   ]
  },
  {
   "cell_type": "code",
   "execution_count": 13,
   "id": "efab57e5-5041-4f9a-82ee-a5bb6520ba7e",
   "metadata": {
    "execution": {
     "iopub.execute_input": "2023-08-27T10:47:58.752383Z",
     "iopub.status.busy": "2023-08-27T10:47:58.752032Z",
     "iopub.status.idle": "2023-08-27T10:47:58.757728Z",
     "shell.execute_reply": "2023-08-27T10:47:58.756890Z",
     "shell.execute_reply.started": "2023-08-27T10:47:58.752358Z"
    },
    "tags": []
   },
   "outputs": [],
   "source": [
    "def scrape_author_info(article_url):\n",
    "    response = requests.get(article_url)\n",
    "    if response.status_code == 200:\n",
    "        html = response.text\n",
    "        soup = BeautifulSoup(html, 'html.parser')\n",
    "\n",
    "        author_element = soup.find('a', class_='post-single__author')\n",
    "        \n",
    "        if author_element:\n",
    "            author_name = author_element.get_text(strip=True)\n",
    "            return author_name\n",
    "        else:\n",
    "            return np.nan\n",
    "    else:\n",
    "        return np.nan"
   ]
  },
  {
   "cell_type": "code",
   "execution_count": 14,
   "id": "8f95e7e4-f690-47df-8019-d6fb7db2e7ac",
   "metadata": {
    "execution": {
     "iopub.execute_input": "2023-08-27T10:47:58.759271Z",
     "iopub.status.busy": "2023-08-27T10:47:58.758894Z",
     "iopub.status.idle": "2023-08-27T11:45:00.491088Z",
     "shell.execute_reply": "2023-08-27T11:45:00.489867Z",
     "shell.execute_reply.started": "2023-08-27T10:47:58.759247Z"
    },
    "tags": []
   },
   "outputs": [
    {
     "data": {
      "application/vnd.jupyter.widget-view+json": {
       "model_id": "614b2aa9722e4a59b0d8a47ad9424bfa",
       "version_major": 2,
       "version_minor": 0
      },
      "text/plain": [
       "  0%|          | 0/3997 [00:00<?, ?it/s]"
      ]
     },
     "metadata": {},
     "output_type": "display_data"
    },
    {
     "data": {
      "text/html": [
       "<div>\n",
       "<style scoped>\n",
       "    .dataframe tbody tr th:only-of-type {\n",
       "        vertical-align: middle;\n",
       "    }\n",
       "\n",
       "    .dataframe tbody tr th {\n",
       "        vertical-align: top;\n",
       "    }\n",
       "\n",
       "    .dataframe thead th {\n",
       "        text-align: right;\n",
       "    }\n",
       "</style>\n",
       "<table border=\"1\" class=\"dataframe\">\n",
       "  <thead>\n",
       "    <tr style=\"text-align: right;\">\n",
       "      <th></th>\n",
       "      <th>id</th>\n",
       "      <th>link</th>\n",
       "      <th>date</th>\n",
       "      <th>content.rendered</th>\n",
       "      <th>content.cleaned</th>\n",
       "      <th>categories</th>\n",
       "      <th>authorship</th>\n",
       "      <th>tags</th>\n",
       "      <th>unique_entities</th>\n",
       "      <th>author.name</th>\n",
       "    </tr>\n",
       "  </thead>\n",
       "  <tbody>\n",
       "    <tr>\n",
       "      <th>26</th>\n",
       "      <td>2452896</td>\n",
       "      <td>https://www.rappler.com/business/list-flights-...</td>\n",
       "      <td>2023-07-24T12:43:49</td>\n",
       "      <td>\\n&lt;p&gt;MANILA, Philippines – Various airports an...</td>\n",
       "      <td>MANILA, Philippines - Various airports and ai...</td>\n",
       "      <td>[621, 624]</td>\n",
       "      <td>[6936]</td>\n",
       "      <td>[2283, 2487, 2802]</td>\n",
       "      <td>{}</td>\n",
       "      <td>Lance Spencer Yu</td>\n",
       "    </tr>\n",
       "    <tr>\n",
       "      <th>34</th>\n",
       "      <td>2452759</td>\n",
       "      <td>https://www.rappler.com/business/repower-energ...</td>\n",
       "      <td>2023-07-24T10:44:42</td>\n",
       "      <td>\\n&lt;p&gt;MANILA, Philippines – Repower Energy Deve...</td>\n",
       "      <td>MANILA, Philippines - Repower Energy Developm...</td>\n",
       "      <td>[621, 625, 626]</td>\n",
       "      <td>[4952]</td>\n",
       "      <td>[2716, 2520, 2266]</td>\n",
       "      <td>{Eric Peter Roxas}</td>\n",
       "      <td>Ralf Rivas</td>\n",
       "    </tr>\n",
       "    <tr>\n",
       "      <th>111</th>\n",
       "      <td>2449638</td>\n",
       "      <td>https://www.rappler.com/business/coa-finds-ant...</td>\n",
       "      <td>2023-07-22T14:42:06</td>\n",
       "      <td>\\n&lt;p&gt;MANILA, Philippines – The Commission on A...</td>\n",
       "      <td>MANILA, Philippines - The Commission on Audit...</td>\n",
       "      <td>[621, 622]</td>\n",
       "      <td>[4999]</td>\n",
       "      <td>[73, 1964]</td>\n",
       "      <td>{James Patrick Cruz}</td>\n",
       "      <td>NaN</td>\n",
       "    </tr>\n",
       "    <tr>\n",
       "      <th>127</th>\n",
       "      <td>2451576</td>\n",
       "      <td>https://www.rappler.com/business/land-transpor...</td>\n",
       "      <td>2023-07-22T11:20:47</td>\n",
       "      <td>\\n&lt;p&gt;MANILA, Philippines – More than 66% of dr...</td>\n",
       "      <td>MANILA, Philippines - More than 66% of drivin...</td>\n",
       "      <td>[621, 622]</td>\n",
       "      <td>[4999]</td>\n",
       "      <td>[1964, 2103]</td>\n",
       "      <td>{Driver, Rodrigo Duterte, Soccsksargen, Lance ...</td>\n",
       "      <td>NaN</td>\n",
       "    </tr>\n",
       "    <tr>\n",
       "      <th>146</th>\n",
       "      <td>2451174</td>\n",
       "      <td>https://www.rappler.com/business/sim-card-regi...</td>\n",
       "      <td>2023-07-21T19:56:01</td>\n",
       "      <td>\\n&lt;p&gt;MANILA, Philippines– The Department of In...</td>\n",
       "      <td>MANILA, Philippines- The Department of Inform...</td>\n",
       "      <td>[621, 628, 622]</td>\n",
       "      <td>[4999]</td>\n",
       "      <td>[1991, 2494]</td>\n",
       "      <td>{Ferdinand Marcos Jr's}</td>\n",
       "      <td>NaN</td>\n",
       "    </tr>\n",
       "  </tbody>\n",
       "</table>\n",
       "</div>"
      ],
      "text/plain": [
       "          id                                               link  \\\n",
       "26   2452896  https://www.rappler.com/business/list-flights-...   \n",
       "34   2452759  https://www.rappler.com/business/repower-energ...   \n",
       "111  2449638  https://www.rappler.com/business/coa-finds-ant...   \n",
       "127  2451576  https://www.rappler.com/business/land-transpor...   \n",
       "146  2451174  https://www.rappler.com/business/sim-card-regi...   \n",
       "\n",
       "                    date                                   content.rendered  \\\n",
       "26   2023-07-24T12:43:49  \\n<p>MANILA, Philippines – Various airports an...   \n",
       "34   2023-07-24T10:44:42  \\n<p>MANILA, Philippines – Repower Energy Deve...   \n",
       "111  2023-07-22T14:42:06  \\n<p>MANILA, Philippines – The Commission on A...   \n",
       "127  2023-07-22T11:20:47  \\n<p>MANILA, Philippines – More than 66% of dr...   \n",
       "146  2023-07-21T19:56:01  \\n<p>MANILA, Philippines– The Department of In...   \n",
       "\n",
       "                                       content.cleaned       categories  \\\n",
       "26    MANILA, Philippines - Various airports and ai...       [621, 624]   \n",
       "34    MANILA, Philippines - Repower Energy Developm...  [621, 625, 626]   \n",
       "111   MANILA, Philippines - The Commission on Audit...       [621, 622]   \n",
       "127   MANILA, Philippines - More than 66% of drivin...       [621, 622]   \n",
       "146   MANILA, Philippines- The Department of Inform...  [621, 628, 622]   \n",
       "\n",
       "    authorship                tags  \\\n",
       "26      [6936]  [2283, 2487, 2802]   \n",
       "34      [4952]  [2716, 2520, 2266]   \n",
       "111     [4999]          [73, 1964]   \n",
       "127     [4999]        [1964, 2103]   \n",
       "146     [4999]        [1991, 2494]   \n",
       "\n",
       "                                       unique_entities       author.name  \n",
       "26                                                  {}  Lance Spencer Yu  \n",
       "34                                  {Eric Peter Roxas}        Ralf Rivas  \n",
       "111                               {James Patrick Cruz}               NaN  \n",
       "127  {Driver, Rodrigo Duterte, Soccsksargen, Lance ...               NaN  \n",
       "146                            {Ferdinand Marcos Jr's}               NaN  "
      ]
     },
     "execution_count": 14,
     "metadata": {},
     "output_type": "execute_result"
    }
   ],
   "source": [
    "an_list = list()\n",
    "\n",
    "for url in tqdm(z['link'].tolist()):\n",
    "    auth_name = scrape_author_info(url)\n",
    "    an_list.append(auth_name)\n",
    "    \n",
    "z['author.name'] = an_list\n",
    "z.head()"
   ]
  },
  {
   "cell_type": "code",
   "execution_count": 16,
   "id": "dfef6021-5f1f-40f1-86e4-b4e9ca8b7181",
   "metadata": {
    "execution": {
     "iopub.execute_input": "2023-08-27T11:45:00.503685Z",
     "iopub.status.busy": "2023-08-27T11:45:00.503370Z",
     "iopub.status.idle": "2023-08-27T11:45:00.510178Z",
     "shell.execute_reply": "2023-08-27T11:45:00.509093Z",
     "shell.execute_reply.started": "2023-08-27T11:45:00.503657Z"
    },
    "tags": []
   },
   "outputs": [],
   "source": [
    "text = business_df['content.cleaned'].iloc[3]\n",
    "\n",
    "def regex_author_name(text):\n",
    "    pattern = r'-\\s?([A-z ]+/)?Rappler.com'\n",
    "    matches = re.findall(pattern, text)\n",
    "\n",
    "    if matches:\n",
    "        captured_name = matches[0]\n",
    "        return captured_name\n",
    "    else:\n",
    "        return None\n",
    "\n",
    "# regex_author_name(text)"
   ]
  },
  {
   "cell_type": "code",
   "execution_count": 17,
   "id": "fec43afc-ce77-42f2-8ad6-a60daaa79d02",
   "metadata": {
    "execution": {
     "iopub.execute_input": "2023-08-27T11:45:00.511787Z",
     "iopub.status.busy": "2023-08-27T11:45:00.511386Z",
     "iopub.status.idle": "2023-08-27T11:45:00.515351Z",
     "shell.execute_reply": "2023-08-27T11:45:00.514546Z",
     "shell.execute_reply.started": "2023-08-27T11:45:00.511759Z"
    },
    "tags": []
   },
   "outputs": [],
   "source": [
    "# business_df['content.cleaned'].apply(regex_author_name).unique()"
   ]
  },
  {
   "cell_type": "code",
   "execution_count": 18,
   "id": "a8da30a8-6beb-4d0c-a372-c695bd221050",
   "metadata": {
    "execution": {
     "iopub.execute_input": "2023-08-27T11:45:00.516763Z",
     "iopub.status.busy": "2023-08-27T11:45:00.516379Z",
     "iopub.status.idle": "2023-08-27T11:45:00.523523Z",
     "shell.execute_reply": "2023-08-27T11:45:00.522584Z",
     "shell.execute_reply.started": "2023-08-27T11:45:00.516735Z"
    },
    "tags": []
   },
   "outputs": [],
   "source": [
    "known_authors = list(set(['James Patrick Cruz', 'Lance Spencer Yu', 'Dennis Abrina',\n",
    "                'Lance Yu', 'Martha Teodoro', 'Jodesz Gavilan', 'Joann Manabat',\n",
    "                'Chris Burnet Ramos', 'Michelle Abad', 'Lorenz Pasion', \n",
    "                'Ralf Rivas', 'Bea Cupin', 'Bonz Magsambol', 'Lian Buan',\n",
    "                'Sofia Tomacruz', 'Eirenne Lumasang', 'Ryan Macasero'] +\n",
    "                 z['author.name'].dropna().unique().tolist()))\n",
    "\n",
    "known_authors = known_authors + [f'{n}/Rappler.com' for n in known_authors]"
   ]
  },
  {
   "cell_type": "code",
   "execution_count": 19,
   "id": "d59fa2ff-3de6-4ba9-9bdc-84197b04a954",
   "metadata": {
    "execution": {
     "iopub.execute_input": "2023-08-27T11:45:00.525130Z",
     "iopub.status.busy": "2023-08-27T11:45:00.524629Z",
     "iopub.status.idle": "2023-08-27T11:45:00.564096Z",
     "shell.execute_reply": "2023-08-27T11:45:00.562687Z",
     "shell.execute_reply.started": "2023-08-27T11:45:00.525102Z"
    },
    "tags": []
   },
   "outputs": [],
   "source": [
    "z['unique_entities'] = [\n",
    "    [y for y in x if y not in known_authors]\n",
    "    for x in z['unique_entities']\n",
    "]"
   ]
  },
  {
   "cell_type": "code",
   "execution_count": 20,
   "id": "ebf09dea-6486-4226-bbbf-fb0b8b97037f",
   "metadata": {
    "execution": {
     "iopub.execute_input": "2023-08-27T11:45:00.565432Z",
     "iopub.status.busy": "2023-08-27T11:45:00.565109Z",
     "iopub.status.idle": "2023-08-27T11:45:00.609950Z",
     "shell.execute_reply": "2023-08-27T11:45:00.608626Z",
     "shell.execute_reply.started": "2023-08-27T11:45:00.565405Z"
    },
    "tags": []
   },
   "outputs": [],
   "source": [
    "rel_z = z[z['unique_entities'].apply(len)>1].copy()"
   ]
  },
  {
   "cell_type": "code",
   "execution_count": 21,
   "id": "3f927c0f-df04-491d-82b7-0996a62cdfb0",
   "metadata": {
    "execution": {
     "iopub.execute_input": "2023-08-27T11:45:00.611565Z",
     "iopub.status.busy": "2023-08-27T11:45:00.611266Z",
     "iopub.status.idle": "2023-08-27T11:45:00.616136Z",
     "shell.execute_reply": "2023-08-27T11:45:00.615197Z",
     "shell.execute_reply.started": "2023-08-27T11:45:00.611537Z"
    },
    "scrolled": true,
    "tags": []
   },
   "outputs": [],
   "source": [
    "# Counter(rel_z['unique_entities'].explode())"
   ]
  },
  {
   "cell_type": "code",
   "execution_count": 22,
   "id": "873e3361-e0da-48a8-b360-3a446b7d70bf",
   "metadata": {
    "execution": {
     "iopub.execute_input": "2023-08-27T11:45:00.617994Z",
     "iopub.status.busy": "2023-08-27T11:45:00.617225Z",
     "iopub.status.idle": "2023-08-27T11:45:00.640350Z",
     "shell.execute_reply": "2023-08-27T11:45:00.639309Z",
     "shell.execute_reply.started": "2023-08-27T11:45:00.617965Z"
    },
    "scrolled": true,
    "tags": []
   },
   "outputs": [],
   "source": [
    "cleaned_entities = [\n",
    "    [y for y in x if len(y.split()) > 1]\n",
    "    for x in rel_z['unique_entities']\n",
    "]"
   ]
  },
  {
   "cell_type": "code",
   "execution_count": 23,
   "id": "d63dad24-0c70-4246-a851-bfc1ef01977f",
   "metadata": {
    "execution": {
     "iopub.execute_input": "2023-08-27T11:45:00.641930Z",
     "iopub.status.busy": "2023-08-27T11:45:00.641472Z",
     "iopub.status.idle": "2023-08-27T11:47:40.163254Z",
     "shell.execute_reply": "2023-08-27T11:47:40.162181Z",
     "shell.execute_reply.started": "2023-08-27T11:45:00.641902Z"
    },
    "tags": []
   },
   "outputs": [
    {
     "data": {
      "application/vnd.jupyter.widget-view+json": {
       "model_id": "3a28c3012f1546598d38ab12712a505d",
       "version_major": 2,
       "version_minor": 0
      },
      "text/plain": [
       "  0%|          | 0/3426 [00:00<?, ?it/s]"
      ]
     },
     "metadata": {},
     "output_type": "display_data"
    }
   ],
   "source": [
    "tl_entities = []\n",
    "\n",
    "for x in tqdm(cleaned_entities):\n",
    "    filtered_list = []\n",
    "    for y in x:\n",
    "        try:\n",
    "            if detect(y) == 'tl' and y not in known_authors:\n",
    "                tl_entities.append(y)\n",
    "        except:\n",
    "            pass  \n",
    "    tl_entities.append(filtered_list)"
   ]
  },
  {
   "cell_type": "code",
   "execution_count": 24,
   "id": "a48b411b-0911-4e2b-a829-c0b68b8e40ed",
   "metadata": {
    "execution": {
     "iopub.execute_input": "2023-08-27T11:47:40.165353Z",
     "iopub.status.busy": "2023-08-27T11:47:40.165035Z",
     "iopub.status.idle": "2023-08-27T11:47:40.170327Z",
     "shell.execute_reply": "2023-08-27T11:47:40.169467Z",
     "shell.execute_reply.started": "2023-08-27T11:47:40.165310Z"
    },
    "scrolled": true,
    "tags": []
   },
   "outputs": [],
   "source": [
    "# print(sorted(tl_entities, key=lambda x: len(x)))"
   ]
  },
  {
   "cell_type": "code",
   "execution_count": 25,
   "id": "462984c2-485b-4fa9-94aa-922d4ff3840c",
   "metadata": {
    "execution": {
     "iopub.execute_input": "2023-08-27T11:47:40.171849Z",
     "iopub.status.busy": "2023-08-27T11:47:40.171612Z",
     "iopub.status.idle": "2023-08-27T11:47:40.184565Z",
     "shell.execute_reply": "2023-08-27T11:47:40.183785Z",
     "shell.execute_reply.started": "2023-08-27T11:47:40.171828Z"
    },
    "tags": []
   },
   "outputs": [],
   "source": [
    "err_tl = {'2137/2138 Manila-Bacolod',\n",
    "        'Ko Lang',\n",
    "        'Ang\\nIn',\n",
    "        'Ang Batang Quiapo',\n",
    "        'Ayala Land',\n",
    "        'Ayala Land Premier',\n",
    "        'Ayala Malls',\n",
    "        'Bahay Ko Program'\n",
    "        'Eat Bulaga',\n",
    "        'Bantay Presyo',\n",
    "        'Bayan Muna',\n",
    "        'Batasang Pambansa',\n",
    "        'Gising Pilipinas',\n",
    "        'Lingkod Kapamilya',\n",
    "        'Magandang Buhay',\n",
    "        'Magandang Gabi Bayan',\n",
    "        'Samahang Manggagawa',\n",
    "        'Sa Kongreso',\n",
    "        'Swiss Singapore',\n",
    "        'Tahanang Walang',\n",
    "        'Walang Personalan'}\n",
    "\n",
    "names_tl = set([x for x in tl_entities if x!=[] and x.istitle()])\n",
    "\n",
    "names_tl = names_tl.difference(err_tl)\n",
    "\n",
    "tl_entities = set([x for x in tl_entities if x!=[]])\n",
    "tl_phrases = tl_entities.difference(names_tl)"
   ]
  },
  {
   "cell_type": "code",
   "execution_count": 26,
   "id": "7398e5f7-e078-43b0-bdf0-a058916e9438",
   "metadata": {
    "execution": {
     "iopub.execute_input": "2023-08-27T11:47:40.185995Z",
     "iopub.status.busy": "2023-08-27T11:47:40.185691Z",
     "iopub.status.idle": "2023-08-27T11:47:40.190286Z",
     "shell.execute_reply": "2023-08-27T11:47:40.189429Z",
     "shell.execute_reply.started": "2023-08-27T11:47:40.185967Z"
    },
    "tags": []
   },
   "outputs": [],
   "source": [
    "# freaking_list\n",
    "# 'para ma-maintain',\n",
    "# 'ka magbi-bid',\n",
    "# 'DZMM TeleRadyo',\n",
    "# 'Isyu Spotted',\n",
    "# 'Kaya Mo',"
   ]
  },
  {
   "cell_type": "code",
   "execution_count": 27,
   "id": "0f6fe61b-cfd9-4533-a9db-0b0f12683f01",
   "metadata": {
    "execution": {
     "iopub.execute_input": "2023-08-27T11:47:40.191639Z",
     "iopub.status.busy": "2023-08-27T11:47:40.191284Z",
     "iopub.status.idle": "2023-08-27T11:47:40.201664Z",
     "shell.execute_reply": "2023-08-27T11:47:40.200584Z",
     "shell.execute_reply.started": "2023-08-27T11:47:40.191616Z"
    },
    "scrolled": true,
    "tags": []
   },
   "outputs": [],
   "source": [
    "cleaned_entities = [\n",
    "    [y for y in x if y not in tl_phrases]\n",
    "    for x in cleaned_entities\n",
    "]"
   ]
  },
  {
   "cell_type": "code",
   "execution_count": 29,
   "id": "9b607bee-9c5d-4bc1-951e-1797170ee11e",
   "metadata": {
    "execution": {
     "iopub.execute_input": "2023-08-27T11:48:34.342697Z",
     "iopub.status.busy": "2023-08-27T11:48:34.342134Z",
     "iopub.status.idle": "2023-08-27T11:48:34.381594Z",
     "shell.execute_reply": "2023-08-27T11:48:34.380477Z",
     "shell.execute_reply.started": "2023-08-27T11:48:34.342649Z"
    },
    "scrolled": true,
    "tags": []
   },
   "outputs": [],
   "source": [
    "cleaned_entities = [\n",
    "    [\n",
    "        (\n",
    "            re.sub('\\s[A-Z]\\. ',\n",
    "                   '',\n",
    "                   y.replace('-',' ').replace(\"’s\", '').strip())\n",
    "        )\n",
    "        .replace('.', '')\n",
    "        for y in x\n",
    "        if y not in tl_phrases\n",
    "    ]\n",
    "    for x in cleaned_entities\n",
    "    \n",
    "]"
   ]
  },
  {
   "cell_type": "markdown",
   "id": "6480dd4e-5753-4e58-8011-923331cf649a",
   "metadata": {},
   "source": [
    "# Sentiment Scoring"
   ]
  },
  {
   "cell_type": "code",
   "execution_count": 31,
   "id": "64529c8e-02e4-47da-ada0-54e4d5f68e46",
   "metadata": {
    "execution": {
     "iopub.execute_input": "2023-08-27T11:49:01.160351Z",
     "iopub.status.busy": "2023-08-27T11:49:01.159796Z",
     "iopub.status.idle": "2023-08-27T11:49:01.182237Z",
     "shell.execute_reply": "2023-08-27T11:49:01.181262Z",
     "shell.execute_reply.started": "2023-08-27T11:49:01.160305Z"
    },
    "tags": []
   },
   "outputs": [
    {
     "data": {
      "text/html": [
       "<div>\n",
       "<style scoped>\n",
       "    .dataframe tbody tr th:only-of-type {\n",
       "        vertical-align: middle;\n",
       "    }\n",
       "\n",
       "    .dataframe tbody tr th {\n",
       "        vertical-align: top;\n",
       "    }\n",
       "\n",
       "    .dataframe thead th {\n",
       "        text-align: right;\n",
       "    }\n",
       "</style>\n",
       "<table border=\"1\" class=\"dataframe\">\n",
       "  <thead>\n",
       "    <tr style=\"text-align: right;\">\n",
       "      <th></th>\n",
       "      <th>id</th>\n",
       "      <th>link</th>\n",
       "      <th>date</th>\n",
       "      <th>content.rendered</th>\n",
       "      <th>content.cleaned</th>\n",
       "      <th>categories</th>\n",
       "      <th>authorship</th>\n",
       "      <th>tags</th>\n",
       "      <th>unique_entities</th>\n",
       "      <th>author.name</th>\n",
       "    </tr>\n",
       "  </thead>\n",
       "  <tbody>\n",
       "    <tr>\n",
       "      <th>127</th>\n",
       "      <td>2451576</td>\n",
       "      <td>https://www.rappler.com/business/land-transpor...</td>\n",
       "      <td>2023-07-22T11:20:47</td>\n",
       "      <td>\\n&lt;p&gt;MANILA, Philippines – More than 66% of dr...</td>\n",
       "      <td>MANILA, Philippines - More than 66% of drivin...</td>\n",
       "      <td>[621, 622]</td>\n",
       "      <td>[4999]</td>\n",
       "      <td>[1964, 2103]</td>\n",
       "      <td>[Driver, Rodrigo Duterte, Soccsksargen, Lance ...</td>\n",
       "      <td>NaN</td>\n",
       "    </tr>\n",
       "    <tr>\n",
       "      <th>189</th>\n",
       "      <td>2450537</td>\n",
       "      <td>https://www.rappler.com/business/how-to-get-sp...</td>\n",
       "      <td>2023-07-21T11:09:26</td>\n",
       "      <td>\\n&lt;p&gt;MANILA, Philippines – If you’ve dreamt ab...</td>\n",
       "      <td>MANILA, Philippines - If you've dreamt about ...</td>\n",
       "      <td>[621, 625]</td>\n",
       "      <td>[6936]</td>\n",
       "      <td>[2460, 1222, 18533]</td>\n",
       "      <td>[P365,394.24, Edgar Injap]</td>\n",
       "      <td>Lance Spencer Yu</td>\n",
       "    </tr>\n",
       "    <tr>\n",
       "      <th>192</th>\n",
       "      <td>2450569</td>\n",
       "      <td>https://www.rappler.com/business/updates-globa...</td>\n",
       "      <td>2023-07-21T09:55:00</td>\n",
       "      <td>\\n&lt;p&gt;NEW YORK, USA – The dollar rallied and a ...</td>\n",
       "      <td>NEW YORK, USA - The dollar rallied and a gaug...</td>\n",
       "      <td>[621, 626]</td>\n",
       "      <td>[5083]</td>\n",
       "      <td>[2625, 2181]</td>\n",
       "      <td>[Graham, Daleep Singh, Tayyip Erdogan, Kazuo U...</td>\n",
       "      <td>NaN</td>\n",
       "    </tr>\n",
       "    <tr>\n",
       "      <th>194</th>\n",
       "      <td>2450555</td>\n",
       "      <td>https://www.rappler.com/business/india-imposes...</td>\n",
       "      <td>2023-07-21T09:30:00</td>\n",
       "      <td>\\n&lt;p&gt;NEW DELHI, India – India on Thursday, Jul...</td>\n",
       "      <td>NEW DELHI, India - India on Thursday, July 20...</td>\n",
       "      <td>[621, 622, 624]</td>\n",
       "      <td>[5083]</td>\n",
       "      <td>[2531, 2513, 1140]</td>\n",
       "      <td>[Haryana, Narendra Modi, Rice, Rao]</td>\n",
       "      <td>NaN</td>\n",
       "    </tr>\n",
       "    <tr>\n",
       "      <th>219</th>\n",
       "      <td>2450113</td>\n",
       "      <td>https://www.rappler.com/business/security-bank...</td>\n",
       "      <td>2023-07-20T14:38:32</td>\n",
       "      <td>\\n&lt;p&gt;MANILA, Philippines – Some &lt;a href=\"https...</td>\n",
       "      <td>MANILA, Philippines - Some Security Bank cust...</td>\n",
       "      <td>[621, 625, 626]</td>\n",
       "      <td>[6936]</td>\n",
       "      <td>[1450, 1566]</td>\n",
       "      <td>[Tanya Ansaldo-Deakin, Rappler]</td>\n",
       "      <td>Lance Spencer Yu</td>\n",
       "    </tr>\n",
       "  </tbody>\n",
       "</table>\n",
       "</div>"
      ],
      "text/plain": [
       "          id                                               link  \\\n",
       "127  2451576  https://www.rappler.com/business/land-transpor...   \n",
       "189  2450537  https://www.rappler.com/business/how-to-get-sp...   \n",
       "192  2450569  https://www.rappler.com/business/updates-globa...   \n",
       "194  2450555  https://www.rappler.com/business/india-imposes...   \n",
       "219  2450113  https://www.rappler.com/business/security-bank...   \n",
       "\n",
       "                    date                                   content.rendered  \\\n",
       "127  2023-07-22T11:20:47  \\n<p>MANILA, Philippines – More than 66% of dr...   \n",
       "189  2023-07-21T11:09:26  \\n<p>MANILA, Philippines – If you’ve dreamt ab...   \n",
       "192  2023-07-21T09:55:00  \\n<p>NEW YORK, USA – The dollar rallied and a ...   \n",
       "194  2023-07-21T09:30:00  \\n<p>NEW DELHI, India – India on Thursday, Jul...   \n",
       "219  2023-07-20T14:38:32  \\n<p>MANILA, Philippines – Some <a href=\"https...   \n",
       "\n",
       "                                       content.cleaned       categories  \\\n",
       "127   MANILA, Philippines - More than 66% of drivin...       [621, 622]   \n",
       "189   MANILA, Philippines - If you've dreamt about ...       [621, 625]   \n",
       "192   NEW YORK, USA - The dollar rallied and a gaug...       [621, 626]   \n",
       "194   NEW DELHI, India - India on Thursday, July 20...  [621, 622, 624]   \n",
       "219   MANILA, Philippines - Some Security Bank cust...  [621, 625, 626]   \n",
       "\n",
       "    authorship                 tags  \\\n",
       "127     [4999]         [1964, 2103]   \n",
       "189     [6936]  [2460, 1222, 18533]   \n",
       "192     [5083]         [2625, 2181]   \n",
       "194     [5083]   [2531, 2513, 1140]   \n",
       "219     [6936]         [1450, 1566]   \n",
       "\n",
       "                                       unique_entities       author.name  \n",
       "127  [Driver, Rodrigo Duterte, Soccsksargen, Lance ...               NaN  \n",
       "189                         [P365,394.24, Edgar Injap]  Lance Spencer Yu  \n",
       "192  [Graham, Daleep Singh, Tayyip Erdogan, Kazuo U...               NaN  \n",
       "194                [Haryana, Narendra Modi, Rice, Rao]               NaN  \n",
       "219                    [Tanya Ansaldo-Deakin, Rappler]  Lance Spencer Yu  "
      ]
     },
     "execution_count": 31,
     "metadata": {},
     "output_type": "execute_result"
    }
   ],
   "source": [
    "rel_z.head()"
   ]
  },
  {
   "cell_type": "code",
   "execution_count": 37,
   "id": "d7212026-14e7-4e0d-834f-19aa184d3f5a",
   "metadata": {
    "execution": {
     "iopub.execute_input": "2023-08-27T11:52:12.956377Z",
     "iopub.status.busy": "2023-08-27T11:52:12.955818Z",
     "iopub.status.idle": "2023-08-27T11:52:12.963405Z",
     "shell.execute_reply": "2023-08-27T11:52:12.962286Z",
     "shell.execute_reply.started": "2023-08-27T11:52:12.956329Z"
    },
    "tags": []
   },
   "outputs": [],
   "source": [
    "from textblob import TextBlob\n",
    "\n",
    "def ave_sentiment(text):\n",
    "    blob = TextBlob(text)\n",
    "    scores = list()\n",
    "    for sentence in blob.sentences:\n",
    "        scores.append(sentence.sentiment.polarity)\n",
    "    return np.mean(scores)"
   ]
  },
  {
   "cell_type": "code",
   "execution_count": 38,
   "id": "beb6ba12-902b-4f3e-a331-be363b23f3bf",
   "metadata": {
    "execution": {
     "iopub.execute_input": "2023-08-27T11:52:14.974197Z",
     "iopub.status.busy": "2023-08-27T11:52:14.973632Z",
     "iopub.status.idle": "2023-08-27T11:52:40.554873Z",
     "shell.execute_reply": "2023-08-27T11:52:40.553783Z",
     "shell.execute_reply.started": "2023-08-27T11:52:14.974150Z"
    },
    "tags": []
   },
   "outputs": [
    {
     "data": {
      "text/html": [
       "<div>\n",
       "<style scoped>\n",
       "    .dataframe tbody tr th:only-of-type {\n",
       "        vertical-align: middle;\n",
       "    }\n",
       "\n",
       "    .dataframe tbody tr th {\n",
       "        vertical-align: top;\n",
       "    }\n",
       "\n",
       "    .dataframe thead th {\n",
       "        text-align: right;\n",
       "    }\n",
       "</style>\n",
       "<table border=\"1\" class=\"dataframe\">\n",
       "  <thead>\n",
       "    <tr style=\"text-align: right;\">\n",
       "      <th></th>\n",
       "      <th>id</th>\n",
       "      <th>link</th>\n",
       "      <th>date</th>\n",
       "      <th>content.rendered</th>\n",
       "      <th>content.cleaned</th>\n",
       "      <th>categories</th>\n",
       "      <th>authorship</th>\n",
       "      <th>tags</th>\n",
       "      <th>unique_entities</th>\n",
       "      <th>author.name</th>\n",
       "      <th>sentiment_score</th>\n",
       "    </tr>\n",
       "  </thead>\n",
       "  <tbody>\n",
       "    <tr>\n",
       "      <th>127</th>\n",
       "      <td>2451576</td>\n",
       "      <td>https://www.rappler.com/business/land-transpor...</td>\n",
       "      <td>2023-07-22T11:20:47</td>\n",
       "      <td>\\n&lt;p&gt;MANILA, Philippines – More than 66% of dr...</td>\n",
       "      <td>MANILA, Philippines - More than 66% of drivin...</td>\n",
       "      <td>[621, 622]</td>\n",
       "      <td>[4999]</td>\n",
       "      <td>[1964, 2103]</td>\n",
       "      <td>[Driver, Rodrigo Duterte, Soccsksargen, Lance ...</td>\n",
       "      <td>NaN</td>\n",
       "      <td>0.053582</td>\n",
       "    </tr>\n",
       "    <tr>\n",
       "      <th>189</th>\n",
       "      <td>2450537</td>\n",
       "      <td>https://www.rappler.com/business/how-to-get-sp...</td>\n",
       "      <td>2023-07-21T11:09:26</td>\n",
       "      <td>\\n&lt;p&gt;MANILA, Philippines – If you’ve dreamt ab...</td>\n",
       "      <td>MANILA, Philippines - If you've dreamt about ...</td>\n",
       "      <td>[621, 625]</td>\n",
       "      <td>[6936]</td>\n",
       "      <td>[2460, 1222, 18533]</td>\n",
       "      <td>[P365,394.24, Edgar Injap]</td>\n",
       "      <td>Lance Spencer Yu</td>\n",
       "      <td>0.113437</td>\n",
       "    </tr>\n",
       "    <tr>\n",
       "      <th>192</th>\n",
       "      <td>2450569</td>\n",
       "      <td>https://www.rappler.com/business/updates-globa...</td>\n",
       "      <td>2023-07-21T09:55:00</td>\n",
       "      <td>\\n&lt;p&gt;NEW YORK, USA – The dollar rallied and a ...</td>\n",
       "      <td>NEW YORK, USA - The dollar rallied and a gaug...</td>\n",
       "      <td>[621, 626]</td>\n",
       "      <td>[5083]</td>\n",
       "      <td>[2625, 2181]</td>\n",
       "      <td>[Graham, Daleep Singh, Tayyip Erdogan, Kazuo U...</td>\n",
       "      <td>NaN</td>\n",
       "      <td>0.032747</td>\n",
       "    </tr>\n",
       "    <tr>\n",
       "      <th>194</th>\n",
       "      <td>2450555</td>\n",
       "      <td>https://www.rappler.com/business/india-imposes...</td>\n",
       "      <td>2023-07-21T09:30:00</td>\n",
       "      <td>\\n&lt;p&gt;NEW DELHI, India – India on Thursday, Jul...</td>\n",
       "      <td>NEW DELHI, India - India on Thursday, July 20...</td>\n",
       "      <td>[621, 622, 624]</td>\n",
       "      <td>[5083]</td>\n",
       "      <td>[2531, 2513, 1140]</td>\n",
       "      <td>[Haryana, Narendra Modi, Rice, Rao]</td>\n",
       "      <td>NaN</td>\n",
       "      <td>-0.001325</td>\n",
       "    </tr>\n",
       "    <tr>\n",
       "      <th>219</th>\n",
       "      <td>2450113</td>\n",
       "      <td>https://www.rappler.com/business/security-bank...</td>\n",
       "      <td>2023-07-20T14:38:32</td>\n",
       "      <td>\\n&lt;p&gt;MANILA, Philippines – Some &lt;a href=\"https...</td>\n",
       "      <td>MANILA, Philippines - Some Security Bank cust...</td>\n",
       "      <td>[621, 625, 626]</td>\n",
       "      <td>[6936]</td>\n",
       "      <td>[1450, 1566]</td>\n",
       "      <td>[Tanya Ansaldo-Deakin, Rappler]</td>\n",
       "      <td>Lance Spencer Yu</td>\n",
       "      <td>-0.007000</td>\n",
       "    </tr>\n",
       "  </tbody>\n",
       "</table>\n",
       "</div>"
      ],
      "text/plain": [
       "          id                                               link  \\\n",
       "127  2451576  https://www.rappler.com/business/land-transpor...   \n",
       "189  2450537  https://www.rappler.com/business/how-to-get-sp...   \n",
       "192  2450569  https://www.rappler.com/business/updates-globa...   \n",
       "194  2450555  https://www.rappler.com/business/india-imposes...   \n",
       "219  2450113  https://www.rappler.com/business/security-bank...   \n",
       "\n",
       "                    date                                   content.rendered  \\\n",
       "127  2023-07-22T11:20:47  \\n<p>MANILA, Philippines – More than 66% of dr...   \n",
       "189  2023-07-21T11:09:26  \\n<p>MANILA, Philippines – If you’ve dreamt ab...   \n",
       "192  2023-07-21T09:55:00  \\n<p>NEW YORK, USA – The dollar rallied and a ...   \n",
       "194  2023-07-21T09:30:00  \\n<p>NEW DELHI, India – India on Thursday, Jul...   \n",
       "219  2023-07-20T14:38:32  \\n<p>MANILA, Philippines – Some <a href=\"https...   \n",
       "\n",
       "                                       content.cleaned       categories  \\\n",
       "127   MANILA, Philippines - More than 66% of drivin...       [621, 622]   \n",
       "189   MANILA, Philippines - If you've dreamt about ...       [621, 625]   \n",
       "192   NEW YORK, USA - The dollar rallied and a gaug...       [621, 626]   \n",
       "194   NEW DELHI, India - India on Thursday, July 20...  [621, 622, 624]   \n",
       "219   MANILA, Philippines - Some Security Bank cust...  [621, 625, 626]   \n",
       "\n",
       "    authorship                 tags  \\\n",
       "127     [4999]         [1964, 2103]   \n",
       "189     [6936]  [2460, 1222, 18533]   \n",
       "192     [5083]         [2625, 2181]   \n",
       "194     [5083]   [2531, 2513, 1140]   \n",
       "219     [6936]         [1450, 1566]   \n",
       "\n",
       "                                       unique_entities       author.name  \\\n",
       "127  [Driver, Rodrigo Duterte, Soccsksargen, Lance ...               NaN   \n",
       "189                         [P365,394.24, Edgar Injap]  Lance Spencer Yu   \n",
       "192  [Graham, Daleep Singh, Tayyip Erdogan, Kazuo U...               NaN   \n",
       "194                [Haryana, Narendra Modi, Rice, Rao]               NaN   \n",
       "219                    [Tanya Ansaldo-Deakin, Rappler]  Lance Spencer Yu   \n",
       "\n",
       "     sentiment_score  \n",
       "127         0.053582  \n",
       "189         0.113437  \n",
       "192         0.032747  \n",
       "194        -0.001325  \n",
       "219        -0.007000  "
      ]
     },
     "execution_count": 38,
     "metadata": {},
     "output_type": "execute_result"
    }
   ],
   "source": [
    "rel_z['sentiment_score'] = rel_z['content.cleaned'].apply(ave_sentiment)\n",
    "\n",
    "rel_z.head()"
   ]
  },
  {
   "cell_type": "code",
   "execution_count": 39,
   "id": "5c5bcf14-0607-457c-9e50-91df3be1a2aa",
   "metadata": {
    "execution": {
     "iopub.execute_input": "2023-08-27T11:53:32.759785Z",
     "iopub.status.busy": "2023-08-27T11:53:32.759188Z",
     "iopub.status.idle": "2023-08-27T11:53:33.617705Z",
     "shell.execute_reply": "2023-08-27T11:53:33.616650Z",
     "shell.execute_reply.started": "2023-08-27T11:53:32.759737Z"
    },
    "tags": []
   },
   "outputs": [],
   "source": [
    "# rel_z.to_csv('../data/rappler-business-with-ner-wip-sentiment.csv', index=False)"
   ]
  }
 ],
 "metadata": {
  "kernelspec": {
   "display_name": "Python 3 (ipykernel)",
   "language": "python",
   "name": "python3"
  },
  "language_info": {
   "codemirror_mode": {
    "name": "ipython",
    "version": 3
   },
   "file_extension": ".py",
   "mimetype": "text/x-python",
   "name": "python",
   "nbconvert_exporter": "python",
   "pygments_lexer": "ipython3",
   "version": "3.9.13"
  },
  "toc": {
   "base_numbering": 1,
   "nav_menu": {},
   "number_sections": true,
   "sideBar": true,
   "skip_h1_title": false,
   "title_cell": "Table of Contents",
   "title_sidebar": "Contents",
   "toc_cell": false,
   "toc_position": {},
   "toc_section_display": true,
   "toc_window_display": false
  }
 },
 "nbformat": 4,
 "nbformat_minor": 5
}
